{
 "cells": [
  {
   "cell_type": "code",
   "execution_count": 2,
   "metadata": {
    "collapsed": true,
    "deletable": true,
    "editable": true
   },
   "outputs": [],
   "source": [
    "import shlex, subprocess\n",
    "\n"
   ]
  },
  {
   "cell_type": "code",
   "execution_count": null,
   "metadata": {
    "collapsed": false,
    "deletable": true,
    "editable": true
   },
   "outputs": [],
   "source": [
    "subprocess.call(\"\").communicate()\n",
    "subprocess.Popen()\n",
    "subprocess.check_output()"
   ]
  },
  {
   "cell_type": "code",
   "execution_count": 30,
   "metadata": {
    "collapsed": false,
    "deletable": true,
    "editable": true
   },
   "outputs": [
    {
     "data": {
      "text/plain": [
       "'@\\naddfile.txt\\nDictionaries -1 .ipynb\\nFile IO.ipynb\\nos module.ipynb\\nsubprocess module.ipynb\\ntest.py\\n'"
      ]
     },
     "execution_count": 30,
     "metadata": {},
     "output_type": "execute_result"
    }
   ],
   "source": [
    "subprocess.check_output([\"ls\", '-q'])\n"
   ]
  },
  {
   "cell_type": "code",
   "execution_count": 21,
   "metadata": {
    "collapsed": false
   },
   "outputs": [],
   "source": [
    "a , _  = p.communicate('demo')"
   ]
  },
  {
   "cell_type": "code",
   "execution_count": 22,
   "metadata": {
    "collapsed": false
   },
   "outputs": [
    {
     "data": {
      "text/plain": [
       "'total 40\\n-rw-rw-r-- 1 ovi ovi 1159 \\xe0\\xa6\\xae\\xe0\\xa6\\xbe\\xe0\\xa6\\xb0\\xe0\\xa7\\x8d\\xe0\\xa6\\x9a   6 00:10 @\\n-rw-rw-r-- 1 ovi ovi   62 \\xe0\\xa6\\xae\\xe0\\xa6\\xbe\\xe0\\xa6\\xb0\\xe0\\xa7\\x8d\\xe0\\xa6\\x9a   4 00:19 addfile.txt\\n-rw-rw-r-- 1 ovi ovi 8269 \\xe0\\xa6\\xae\\xe0\\xa6\\xbe\\xe0\\xa6\\xb0\\xe0\\xa7\\x8d\\xe0\\xa6\\x9a   3 23:33 Dictionaries -1 .ipynb\\n-rw-rw-r-- 1 ovi ovi 5294 \\xe0\\xa6\\xae\\xe0\\xa6\\xbe\\xe0\\xa6\\xb0\\xe0\\xa7\\x8d\\xe0\\xa6\\x9a   3 23:33 File IO.ipynb\\n-rw-rw-r-- 1 ovi ovi 3015 \\xe0\\xa6\\xae\\xe0\\xa6\\xbe\\xe0\\xa6\\xb0\\xe0\\xa7\\x8d\\xe0\\xa6\\x9a   4 00:49 os module.ipynb\\n-rw-rw-r-- 1 ovi ovi 1835 \\xe0\\xa6\\xae\\xe0\\xa6\\xbe\\xe0\\xa6\\xb0\\xe0\\xa7\\x8d\\xe0\\xa6\\x9a  10 01:02 subprocess module.ipynb\\n-rw-rw-r-- 1 ovi ovi 1381 \\xe0\\xa6\\xae\\xe0\\xa6\\xbe\\xe0\\xa6\\xb0\\xe0\\xa7\\x8d\\xe0\\xa6\\x9a   6 00:43 test.py\\n'"
      ]
     },
     "execution_count": 22,
     "metadata": {},
     "output_type": "execute_result"
    }
   ],
   "source": [
    "a"
   ]
  },
  {
   "cell_type": "code",
   "execution_count": 51,
   "metadata": {
    "collapsed": false
   },
   "outputs": [
    {
     "ename": "CalledProcessError",
     "evalue": "Command '['ls', '\"']' returned non-zero exit status 2",
     "output_type": "error",
     "traceback": [
      "\u001b[0;31m---------------------------------------------------------------------------\u001b[0m",
      "\u001b[0;31mCalledProcessError\u001b[0m                        Traceback (most recent call last)",
      "\u001b[0;32m<ipython-input-51-5f71ae069264>\u001b[0m in \u001b[0;36m<module>\u001b[0;34m()\u001b[0m\n\u001b[0;32m----> 1\u001b[0;31m \u001b[0msubprocess\u001b[0m\u001b[0;34m.\u001b[0m\u001b[0mcheck_output\u001b[0m\u001b[0;34m(\u001b[0m\u001b[0;34m\"ls \\\"     \"\u001b[0m\u001b[0;34m.\u001b[0m\u001b[0msplit\u001b[0m\u001b[0;34m(\u001b[0m\u001b[0;34m)\u001b[0m\u001b[0;34m)\u001b[0m\u001b[0;34m\u001b[0m\u001b[0m\n\u001b[0m",
      "\u001b[0;32m/usr/lib/python2.7/subprocess.pyc\u001b[0m in \u001b[0;36mcheck_output\u001b[0;34m(*popenargs, **kwargs)\u001b[0m\n\u001b[1;32m    572\u001b[0m         \u001b[0;32mif\u001b[0m \u001b[0mcmd\u001b[0m \u001b[0;32mis\u001b[0m \u001b[0mNone\u001b[0m\u001b[0;34m:\u001b[0m\u001b[0;34m\u001b[0m\u001b[0m\n\u001b[1;32m    573\u001b[0m             \u001b[0mcmd\u001b[0m \u001b[0;34m=\u001b[0m \u001b[0mpopenargs\u001b[0m\u001b[0;34m[\u001b[0m\u001b[0;36m0\u001b[0m\u001b[0;34m]\u001b[0m\u001b[0;34m\u001b[0m\u001b[0m\n\u001b[0;32m--> 574\u001b[0;31m         \u001b[0;32mraise\u001b[0m \u001b[0mCalledProcessError\u001b[0m\u001b[0;34m(\u001b[0m\u001b[0mretcode\u001b[0m\u001b[0;34m,\u001b[0m \u001b[0mcmd\u001b[0m\u001b[0;34m,\u001b[0m \u001b[0moutput\u001b[0m\u001b[0;34m=\u001b[0m\u001b[0moutput\u001b[0m\u001b[0;34m)\u001b[0m\u001b[0;34m\u001b[0m\u001b[0m\n\u001b[0m\u001b[1;32m    575\u001b[0m     \u001b[0;32mreturn\u001b[0m \u001b[0moutput\u001b[0m\u001b[0;34m\u001b[0m\u001b[0m\n\u001b[1;32m    576\u001b[0m \u001b[0;34m\u001b[0m\u001b[0m\n",
      "\u001b[0;31mCalledProcessError\u001b[0m: Command '['ls', '\"']' returned non-zero exit status 2"
     ]
    }
   ],
   "source": [
    "import subprocess, shlex\n",
    "\n",
    "result = subprocess.check_output(shlex.split(input_command))"
   ]
  },
  {
   "cell_type": "code",
   "execution_count": 45,
   "metadata": {
    "collapsed": false
   },
   "outputs": [
    {
     "data": {
      "text/plain": [
       "['l', 's', ' ', '-', 'l']"
      ]
     },
     "execution_count": 45,
     "metadata": {},
     "output_type": "execute_result"
    }
   ],
   "source": []
  },
  {
   "cell_type": "code",
   "execution_count": null,
   "metadata": {
    "collapsed": false
   },
   "outputs": [],
   "source": []
  },
  {
   "cell_type": "code",
   "execution_count": null,
   "metadata": {
    "collapsed": true
   },
   "outputs": [],
   "source": [
    "# Questions \n",
    "\n",
    "1) How does stdin in subprocess.popen work? \n",
    "2) How to use paramiko? \n",
    "3) getopt, re, os, socket, urllib2/ requests, time , csv , multiprocessing, time, timeit, json, oauth2, \n",
    "   collections, itertools, pprint, shutils, os, logging "
   ]
  }
 ],
 "metadata": {
  "kernelspec": {
   "display_name": "Python 2",
   "language": "python",
   "name": "python2"
  },
  "language_info": {
   "codemirror_mode": {
    "name": "ipython",
    "version": 2
   },
   "file_extension": ".py",
   "mimetype": "text/x-python",
   "name": "python",
   "nbconvert_exporter": "python",
   "pygments_lexer": "ipython2",
   "version": "2.7.12"
  }
 },
 "nbformat": 4,
 "nbformat_minor": 2
}
