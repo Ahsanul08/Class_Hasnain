{
 "cells": [
  {
   "cell_type": "code",
   "execution_count": 8,
   "metadata": {
    "collapsed": false
   },
   "outputs": [
    {
     "name": "stdout",
     "output_type": "stream",
     "text": [
      "3d:7: 6000,7000\n",
      "\n",
      "2d:7: 6000,7000\n",
      "\n"
     ]
    }
   ],
   "source": [
    "import itertools\n",
    "\n",
    "def makeADDfile(lunlist,portList):\n",
    "    port_set = {i[1:] for i in portList}\n",
    "    pair_list= []\n",
    "    for fa in port_set:\n",
    "        for port in portList[:]:\n",
    "            b = int(port[0]) \n",
    "            if port.endswith(fa):\n",
    "                pair = '{}{}'.format((5-b),fa)\n",
    "                if pair.endswith(fa):\n",
    "                    try:\n",
    "                        portList.remove(port)\n",
    "                        portList.remove(pair)\n",
    "                        pair_list.append((port,pair))\n",
    "                    except:\n",
    "                        pass\n",
    "                    \n",
    "\n",
    "    faList1 = itertools.cycle(map(lambda x: x[0],pair_list))\n",
    "    faList2 = itertools.cycle(map(lambda x: x[1],pair_list))\n",
    "    lunDict = {}\n",
    "\n",
    "    for i,j,k in zip(faList1,faList2,lunlist):\n",
    "        lunDict.setdefault(i,[]).append(k)\n",
    "        lunDict.setdefault(j,[]).append(k)\n",
    "\n",
    "    with open('addfile.txt', 'a') as f:\n",
    "        for faports in lunDict.keys():\n",
    "            output = '{}: {}\\n'.format(faports , ','.join(map(str,lunDict[faports])) )\n",
    "            print output\n",
    "            f.write(output)\n",
    "\n",
    "            \n",
    "makeADDfile(['6000','7000'], ['3d:7','2d:7'])            "
   ]
  },
  {
   "cell_type": "code",
   "execution_count": 13,
   "metadata": {
    "collapsed": false
   },
   "outputs": [
    {
     "data": {
      "text/plain": [
       "'0002'"
      ]
     },
     "execution_count": 13,
     "metadata": {},
     "output_type": "execute_result"
    }
   ],
   "source": [
    "a = '2'\n",
    "a.zfill(4)"
   ]
  },
  {
   "cell_type": "markdown",
   "metadata": {},
   "source": [
    "## Task of next class"
   ]
  },
  {
   "cell_type": "code",
   "execution_count": null,
   "metadata": {
    "collapsed": true
   },
   "outputs": [],
   "source": [
    "1. replace command module with subprocess module\n",
    "2. How to form a command line utility. \n",
    "3. log utility for scripts.\n",
    "4. How to read/write using json module?\n",
    "5. email using python"
   ]
  }
 ],
 "metadata": {
  "kernelspec": {
   "display_name": "Python 2",
   "language": "python",
   "name": "python2"
  },
  "language_info": {
   "codemirror_mode": {
    "name": "ipython",
    "version": 2
   },
   "file_extension": ".py",
   "mimetype": "text/x-python",
   "name": "python",
   "nbconvert_exporter": "python",
   "pygments_lexer": "ipython2",
   "version": "2.7.12"
  }
 },
 "nbformat": 4,
 "nbformat_minor": 2
}
