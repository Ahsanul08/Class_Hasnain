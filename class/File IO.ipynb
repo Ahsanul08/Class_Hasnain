{
 "cells": [
  {
   "cell_type": "code",
   "execution_count": 30,
   "metadata": {
    "collapsed": false,
    "deletable": true,
    "editable": true
   },
   "outputs": [
    {
     "name": "stdout",
     "output_type": "stream",
     "text": [
      "This is a demo text.\n",
      "\n",
      "This is a demo text.\n",
      "\n",
      "safdghsad sadfds\n",
      "\n",
      "agsdfsaf  sgadhjdsajsdah\n"
     ]
    }
   ],
   "source": [
    "# Trivial way to open, read from and close a file\n",
    "f = open('f.txt','r')\n",
    "\n",
    "for line in f:\n",
    "    print line\n",
    "f.close()    "
   ]
  },
  {
   "cell_type": "code",
   "execution_count": 27,
   "metadata": {
    "collapsed": false
   },
   "outputs": [],
   "source": [
    "# using context manager\n",
    "\n",
    "with open('f.txt','r') as f, open('f1.txt','w') as f1:\n",
    "    a = f.read(10)\n",
    "    f1.write(a)"
   ]
  },
  {
   "cell_type": "markdown",
   "metadata": {},
   "source": [
    "## There are different ways to retrieve data from a file or iterate through a file"
   ]
  },
  {
   "cell_type": "code",
   "execution_count": 31,
   "metadata": {
    "collapsed": false
   },
   "outputs": [
    {
     "ename": "ValueError",
     "evalue": "I/O operation on closed file",
     "output_type": "error",
     "traceback": [
      "\u001b[0;31m---------------------------------------------------------------------------\u001b[0m",
      "\u001b[0;31mValueError\u001b[0m                                Traceback (most recent call last)",
      "\u001b[0;32m<ipython-input-31-32035216c32a>\u001b[0m in \u001b[0;36m<module>\u001b[0;34m()\u001b[0m\n\u001b[1;32m      1\u001b[0m \u001b[0;31m# using read() method\u001b[0m\u001b[0;34m\u001b[0m\u001b[0;34m\u001b[0m\u001b[0m\n\u001b[1;32m      2\u001b[0m \u001b[0;34m\u001b[0m\u001b[0m\n\u001b[0;32m----> 3\u001b[0;31m \u001b[0mf\u001b[0m\u001b[0;34m.\u001b[0m\u001b[0mread\u001b[0m\u001b[0;34m(\u001b[0m\u001b[0;34m)\u001b[0m\u001b[0;34m\u001b[0m\u001b[0m\n\u001b[0m\u001b[1;32m      4\u001b[0m \u001b[0;34m\u001b[0m\u001b[0m\n\u001b[1;32m      5\u001b[0m \u001b[0mf\u001b[0m\u001b[0;34m.\u001b[0m\u001b[0mread\u001b[0m\u001b[0;34m(\u001b[0m\u001b[0;36m10\u001b[0m\u001b[0;34m)\u001b[0m\u001b[0;34m\u001b[0m\u001b[0m\n",
      "\u001b[0;31mValueError\u001b[0m: I/O operation on closed file"
     ]
    }
   ],
   "source": [
    "# using read() method\n",
    "\n",
    "f.read()\n",
    "\n",
    "f.read(10)\n",
    "\n",
    "# using for loop\n",
    "\n",
    "for line in f:\n",
    "    print line\n",
    "    \n",
    "# form a list with lines of a file\n",
    "\n",
    "[line for line in f] #list comprehension\n",
    "\n",
    "\n",
    "a = [i.strip() for i in  list(f)]\n",
    "\n",
    "a = map(str.strip, f)\n",
    "\n",
    "\n",
    "a = f.readline()\n",
    "\n",
    "a = f.read().splitlines()"
   ]
  },
  {
   "cell_type": "code",
   "execution_count": 47,
   "metadata": {
    "collapsed": false
   },
   "outputs": [],
   "source": [
    "with open('f.txt','w') as f:\n",
    "    f.write('Another line')"
   ]
  },
  {
   "cell_type": "code",
   "execution_count": 49,
   "metadata": {
    "collapsed": true
   },
   "outputs": [],
   "source": [
    "with open('f.txt','a') as f:\n",
    "    f.write('\\nAnother line')"
   ]
  },
  {
   "cell_type": "code",
   "execution_count": 58,
   "metadata": {
    "collapsed": false
   },
   "outputs": [
    {
     "name": "stdout",
     "output_type": "stream",
     "text": [
      "\n"
     ]
    }
   ],
   "source": [
    "lst = ['line no 1 ', 'line no 2', 'line no 3']\n",
    "\n",
    "with open('f.txt','a+') as f:\n",
    "    f.write('\\n'.join(lst))\n",
    "    print f.read()\n"
   ]
  },
  {
   "cell_type": "code",
   "execution_count": 65,
   "metadata": {
    "collapsed": false
   },
   "outputs": [
    {
     "name": "stdout",
     "output_type": "stream",
     "text": [
      "0\n",
      "**************************\n",
      "&&&&&&&&&&&&&&&&&&&&&&&&&&\n",
      "$$$$$$$$$$$$$$$$$$$$$$$$$$\n",
      "line no 2\n",
      "line no 3\n",
      "line no 1 \n",
      "line no 2\n",
      "line no 3line no 1 \n",
      "line no 2\n",
      "line no 3line no 1 \n",
      "line no 2\n",
      "line no 3line no 1 \n",
      "line no 2\n",
      "line no 3line no 1 \n",
      "line no 2\n",
      "line no 3\n",
      "---------------------------------------\n",
      "251\n"
     ]
    }
   ],
   "source": [
    "with open('f.txt','r') as f:\n",
    "    a = f.read()\n",
    "    f.seek(0)\n",
    "    b = f.read()\n",
    "    f.seek(0)\n",
    "    print f.tell()\n",
    "print a\n",
    "print '---------------------------------------'\n",
    "print len(b)"
   ]
  },
  {
   "cell_type": "code",
   "execution_count": null,
   "metadata": {
    "collapsed": true
   },
   "outputs": [],
   "source": []
  }
 ],
 "metadata": {
  "kernelspec": {
   "display_name": "Python 2",
   "language": "python",
   "name": "python2"
  },
  "language_info": {
   "codemirror_mode": {
    "name": "ipython",
    "version": 2
   },
   "file_extension": ".py",
   "mimetype": "text/x-python",
   "name": "python",
   "nbconvert_exporter": "python",
   "pygments_lexer": "ipython2",
   "version": "2.7.12"
  }
 },
 "nbformat": 4,
 "nbformat_minor": 2
}
