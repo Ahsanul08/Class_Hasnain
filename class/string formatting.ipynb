{
 "cells": [
  {
   "cell_type": "code",
   "execution_count": 2,
   "metadata": {
    "collapsed": false
   },
   "outputs": [
    {
     "name": "stdout",
     "output_type": "stream",
     "text": [
      "value of #1 = 1, #2=2, #3=3\n"
     ]
    }
   ],
   "source": [
    "# format with {}\n",
    "\n",
    "a,b,c = 1,2,3\n",
    "\n",
    "print 'value of #1 = {}, #2={}, #3={}'.format(a,b,c)"
   ]
  },
  {
   "cell_type": "code",
   "execution_count": 3,
   "metadata": {
    "collapsed": false
   },
   "outputs": [
    {
     "name": "stdout",
     "output_type": "stream",
     "text": [
      "value of #1 = 1, #2=2, #3=3\n"
     ]
    }
   ],
   "source": [
    "# format with {number}\n",
    "\n",
    "a,b,c = 1,2,3\n",
    "\n",
    "print 'value of #1 = {1}, #2={0}, #3={2}'.format(b,a,c)\n"
   ]
  },
  {
   "cell_type": "code",
   "execution_count": 4,
   "metadata": {
    "collapsed": false
   },
   "outputs": [
    {
     "name": "stdout",
     "output_type": "stream",
     "text": [
      "value of #1 = 2, #2=4, #3=3\n"
     ]
    }
   ],
   "source": [
    "# format with named_argument\n",
    "\n",
    "print 'value of #1 = {c}, #2={a}, #3={b}'.format(a=4,b=3,c=2)"
   ]
  },
  {
   "cell_type": "code",
   "execution_count": 8,
   "metadata": {
    "collapsed": false
   },
   "outputs": [
    {
     "name": "stdout",
     "output_type": "stream",
     "text": [
      "value of #1 = 3, #2=2, #3=4\n",
      "value of #1 = 2, #2=3, #3=4\n"
     ]
    }
   ],
   "source": [
    "# format with dictionary\n",
    "\n",
    "dic = {'a':2, 'b':3, 'c':4}\n",
    "print 'value of #1 = {0[b]}, #2={0[a]}, #3={0[c]}'.format(dic)\n",
    "\n",
    "print 'value of #1 = {0}, #2={1}, #3={2}'.format(dic['a'], dic['b'], dic['c'])\n"
   ]
  },
  {
   "cell_type": "code",
   "execution_count": 9,
   "metadata": {
    "collapsed": true
   },
   "outputs": [],
   "source": [
    "dic = {'a':2, 'b':3, 'c':4}\n",
    "\n",
    "dic = {j:i for i,j in dic.items()}"
   ]
  },
  {
   "cell_type": "code",
   "execution_count": 11,
   "metadata": {
    "collapsed": false
   },
   "outputs": [
    {
     "name": "stdout",
     "output_type": "stream",
     "text": [
      "value of #1 = 3, #2 =5\n"
     ]
    }
   ],
   "source": [
    "# format with list index \n",
    "\n",
    "lst = [1,2,3]\n",
    "lst1 = [4,5,6]\n",
    "print 'value of #1 = {0[2]}, #2 ={1[1]}'.format(lst, lst1)\n"
   ]
  },
  {
   "cell_type": "code",
   "execution_count": 16,
   "metadata": {
    "collapsed": false
   },
   "outputs": [
    {
     "name": "stdout",
     "output_type": "stream",
     "text": [
      "value of #1 = 3 , #2 =2, #3 = 1\n"
     ]
    }
   ],
   "source": [
    "# format with list unpacking (Positional argument)\n",
    "\n",
    "lst = [1,2,3]\n",
    "\n",
    "print 'value of #1 = {2} , #2 ={1}, #3 = {0}'.format(*lst)"
   ]
  },
  {
   "cell_type": "code",
   "execution_count": 19,
   "metadata": {
    "collapsed": false
   },
   "outputs": [
    {
     "name": "stdout",
     "output_type": "stream",
     "text": [
      "value of #1 = 3 , #2 =4, #3 = 2\n"
     ]
    }
   ],
   "source": [
    "# format with kwargs (keyword argument)\n",
    "\n",
    "dic = {'a':2, 'b':3, 'c':4}\n",
    "\n",
    "print 'value of #1 = {b} , #2 ={c}, #3 = {a}'.format(**dic)"
   ]
  },
  {
   "cell_type": "code",
   "execution_count": 29,
   "metadata": {
    "collapsed": false
   },
   "outputs": [
    {
     "name": "stdout",
     "output_type": "stream",
     "text": [
      "value of #1 = 1 , #2 =4\n"
     ]
    }
   ],
   "source": [
    "class Demo:\n",
    "    def __init__(self, a, b):\n",
    "        self.u = a\n",
    "        self.v = b\n",
    "\n",
    "b = Demo(1,2)    \n",
    "c = Demo(3,4)\n",
    "\n",
    "print 'value of #1 = {0.u} , #2 ={1.v}'.format(b,c)"
   ]
  },
  {
   "cell_type": "code",
   "execution_count": 50,
   "metadata": {
    "collapsed": false
   },
   "outputs": [
    {
     "name": "stdout",
     "output_type": "stream",
     "text": [
      "--HELLO---, world\n"
     ]
    }
   ],
   "source": [
    "# Alignment with format\n",
    "\n",
    "print '{:-^10s}, world'.format('HELLO')"
   ]
  },
  {
   "cell_type": "code",
   "execution_count": 62,
   "metadata": {
    "collapsed": false
   },
   "outputs": [
    {
     "name": "stdout",
     "output_type": "stream",
     "text": [
      "-00123\n",
      "-00123\n"
     ]
    }
   ],
   "source": [
    "print '{:0=6d}'.format(-123)\n",
    "print '-123'.zfill(6)"
   ]
  },
  {
   "cell_type": "code",
   "execution_count": 68,
   "metadata": {
    "collapsed": false
   },
   "outputs": [
    {
     "name": "stdout",
     "output_type": "stream",
     "text": [
      "42\n",
      "42.12\n",
      "42.00\n"
     ]
    }
   ],
   "source": [
    "# format float numbers\n",
    "\n",
    "print '{0:.0f}'.format(42.12345)\n",
    "print '{0:.2f}'.format(42.12345)\n",
    "print '{0:.2f}'.format(42)\n"
   ]
  },
  {
   "cell_type": "code",
   "execution_count": null,
   "metadata": {
    "collapsed": true
   },
   "outputs": [],
   "source": []
  }
 ],
 "metadata": {
  "kernelspec": {
   "display_name": "Python 2",
   "language": "python",
   "name": "python2"
  },
  "language_info": {
   "codemirror_mode": {
    "name": "ipython",
    "version": 2
   },
   "file_extension": ".py",
   "mimetype": "text/x-python",
   "name": "python",
   "nbconvert_exporter": "python",
   "pygments_lexer": "ipython2",
   "version": "2.7.12"
  }
 },
 "nbformat": 4,
 "nbformat_minor": 2
}
